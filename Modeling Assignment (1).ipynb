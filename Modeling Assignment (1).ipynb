{
 "cells": [
  {
   "cell_type": "markdown",
   "id": "02f8a258",
   "metadata": {},
   "source": [
    "#                               Modelingfor  NYC Taxi trip duration "
   ]
  },
  {
   "cell_type": "markdown",
   "id": "44e5b1c4",
   "metadata": {},
   "source": [
    "### Variable Identification, Range of Variables"
   ]
  },
  {
   "cell_type": "code",
   "execution_count": 1,
   "id": "36916367",
   "metadata": {},
   "outputs": [],
   "source": [
    "import pandas as pd\n",
    "import numpy as np\n",
    "import matplotlib.pyplot as plt\n",
    "import seaborn as sns"
   ]
  },
  {
   "cell_type": "code",
   "execution_count": 2,
   "id": "38b6b5ee",
   "metadata": {},
   "outputs": [
    {
     "data": {
      "text/html": [
       "<div>\n",
       "<style scoped>\n",
       "    .dataframe tbody tr th:only-of-type {\n",
       "        vertical-align: middle;\n",
       "    }\n",
       "\n",
       "    .dataframe tbody tr th {\n",
       "        vertical-align: top;\n",
       "    }\n",
       "\n",
       "    .dataframe thead th {\n",
       "        text-align: right;\n",
       "    }\n",
       "</style>\n",
       "<table border=\"1\" class=\"dataframe\">\n",
       "  <thead>\n",
       "    <tr style=\"text-align: right;\">\n",
       "      <th></th>\n",
       "      <th>id</th>\n",
       "      <th>vendor_id</th>\n",
       "      <th>pickup_datetime</th>\n",
       "      <th>dropoff_datetime</th>\n",
       "      <th>passenger_count</th>\n",
       "      <th>pickup_longitude</th>\n",
       "      <th>pickup_latitude</th>\n",
       "      <th>dropoff_longitude</th>\n",
       "      <th>dropoff_latitude</th>\n",
       "      <th>store_and_fwd_flag</th>\n",
       "      <th>trip_duration</th>\n",
       "    </tr>\n",
       "  </thead>\n",
       "  <tbody>\n",
       "    <tr>\n",
       "      <th>0</th>\n",
       "      <td>id1080784</td>\n",
       "      <td>2</td>\n",
       "      <td>2016-02-29 16:40:21</td>\n",
       "      <td>2016-02-29 16:47:01</td>\n",
       "      <td>1</td>\n",
       "      <td>-73.953918</td>\n",
       "      <td>40.778873</td>\n",
       "      <td>-73.963875</td>\n",
       "      <td>40.771164</td>\n",
       "      <td>N</td>\n",
       "      <td>400</td>\n",
       "    </tr>\n",
       "    <tr>\n",
       "      <th>1</th>\n",
       "      <td>id0889885</td>\n",
       "      <td>1</td>\n",
       "      <td>2016-03-11 23:35:37</td>\n",
       "      <td>2016-03-11 23:53:57</td>\n",
       "      <td>2</td>\n",
       "      <td>-73.988312</td>\n",
       "      <td>40.731743</td>\n",
       "      <td>-73.994751</td>\n",
       "      <td>40.694931</td>\n",
       "      <td>N</td>\n",
       "      <td>1100</td>\n",
       "    </tr>\n",
       "  </tbody>\n",
       "</table>\n",
       "</div>"
      ],
      "text/plain": [
       "          id  vendor_id      pickup_datetime     dropoff_datetime  \\\n",
       "0  id1080784          2  2016-02-29 16:40:21  2016-02-29 16:47:01   \n",
       "1  id0889885          1  2016-03-11 23:35:37  2016-03-11 23:53:57   \n",
       "\n",
       "   passenger_count  pickup_longitude  pickup_latitude  dropoff_longitude  \\\n",
       "0                1        -73.953918        40.778873         -73.963875   \n",
       "1                2        -73.988312        40.731743         -73.994751   \n",
       "\n",
       "   dropoff_latitude store_and_fwd_flag  trip_duration  \n",
       "0         40.771164                  N            400  \n",
       "1         40.694931                  N           1100  "
      ]
     },
     "execution_count": 2,
     "metadata": {},
     "output_type": "execute_result"
    }
   ],
   "source": [
    "data = pd.read_csv('nyc_taxi_trip_duration.csv')\n",
    "data.head(2)"
   ]
  },
  {
   "cell_type": "code",
   "execution_count": 3,
   "id": "3b2a8aa1",
   "metadata": {},
   "outputs": [
    {
     "data": {
      "text/plain": [
       "(729322, 11)"
      ]
     },
     "execution_count": 3,
     "metadata": {},
     "output_type": "execute_result"
    }
   ],
   "source": [
    "# Checking number of rows and columns\n",
    "data.shape"
   ]
  },
  {
   "cell_type": "code",
   "execution_count": 4,
   "id": "f9ac3b99",
   "metadata": {},
   "outputs": [
    {
     "data": {
      "text/plain": [
       "Index(['id', 'vendor_id', 'pickup_datetime', 'dropoff_datetime',\n",
       "       'passenger_count', 'pickup_longitude', 'pickup_latitude',\n",
       "       'dropoff_longitude', 'dropoff_latitude', 'store_and_fwd_flag',\n",
       "       'trip_duration'],\n",
       "      dtype='object')"
      ]
     },
     "execution_count": 4,
     "metadata": {},
     "output_type": "execute_result"
    }
   ],
   "source": [
    "data.columns"
   ]
  },
  {
   "cell_type": "code",
   "execution_count": 5,
   "id": "38ddd74a",
   "metadata": {},
   "outputs": [
    {
     "data": {
      "text/plain": [
       "id                     object\n",
       "vendor_id               int64\n",
       "pickup_datetime        object\n",
       "dropoff_datetime       object\n",
       "passenger_count         int64\n",
       "pickup_longitude      float64\n",
       "pickup_latitude       float64\n",
       "dropoff_longitude     float64\n",
       "dropoff_latitude      float64\n",
       "store_and_fwd_flag     object\n",
       "trip_duration           int64\n",
       "dtype: object"
      ]
     },
     "execution_count": 5,
     "metadata": {},
     "output_type": "execute_result"
    }
   ],
   "source": [
    "data.dtypes"
   ]
  },
  {
   "cell_type": "code",
   "execution_count": 6,
   "id": "7d1b3c01",
   "metadata": {},
   "outputs": [
    {
     "data": {
      "text/plain": [
       "id                    0\n",
       "vendor_id             0\n",
       "pickup_datetime       0\n",
       "dropoff_datetime      0\n",
       "passenger_count       0\n",
       "pickup_longitude      0\n",
       "pickup_latitude       0\n",
       "dropoff_longitude     0\n",
       "dropoff_latitude      0\n",
       "store_and_fwd_flag    0\n",
       "trip_duration         0\n",
       "dtype: int64"
      ]
     },
     "execution_count": 6,
     "metadata": {},
     "output_type": "execute_result"
    }
   ],
   "source": [
    "# Checking for missing values\n",
    "data.isna().sum()"
   ]
  },
  {
   "cell_type": "markdown",
   "id": "3e828534",
   "metadata": {},
   "source": [
    "#### INT Data type"
   ]
  },
  {
   "cell_type": "code",
   "execution_count": 7,
   "id": "1b88ecaa",
   "metadata": {},
   "outputs": [
    {
     "data": {
      "text/html": [
       "<div>\n",
       "<style scoped>\n",
       "    .dataframe tbody tr th:only-of-type {\n",
       "        vertical-align: middle;\n",
       "    }\n",
       "\n",
       "    .dataframe tbody tr th {\n",
       "        vertical-align: top;\n",
       "    }\n",
       "\n",
       "    .dataframe thead th {\n",
       "        text-align: right;\n",
       "    }\n",
       "</style>\n",
       "<table border=\"1\" class=\"dataframe\">\n",
       "  <thead>\n",
       "    <tr style=\"text-align: right;\">\n",
       "      <th></th>\n",
       "      <th>vendor_id</th>\n",
       "      <th>passenger_count</th>\n",
       "      <th>trip_duration</th>\n",
       "    </tr>\n",
       "  </thead>\n",
       "  <tbody>\n",
       "    <tr>\n",
       "      <th>0</th>\n",
       "      <td>2</td>\n",
       "      <td>1</td>\n",
       "      <td>400</td>\n",
       "    </tr>\n",
       "    <tr>\n",
       "      <th>1</th>\n",
       "      <td>1</td>\n",
       "      <td>2</td>\n",
       "      <td>1100</td>\n",
       "    </tr>\n",
       "    <tr>\n",
       "      <th>2</th>\n",
       "      <td>2</td>\n",
       "      <td>2</td>\n",
       "      <td>1635</td>\n",
       "    </tr>\n",
       "    <tr>\n",
       "      <th>3</th>\n",
       "      <td>2</td>\n",
       "      <td>6</td>\n",
       "      <td>1141</td>\n",
       "    </tr>\n",
       "    <tr>\n",
       "      <th>4</th>\n",
       "      <td>1</td>\n",
       "      <td>1</td>\n",
       "      <td>848</td>\n",
       "    </tr>\n",
       "  </tbody>\n",
       "</table>\n",
       "</div>"
      ],
      "text/plain": [
       "   vendor_id  passenger_count  trip_duration\n",
       "0          2                1            400\n",
       "1          1                2           1100\n",
       "2          2                2           1635\n",
       "3          2                6           1141\n",
       "4          1                1            848"
      ]
     },
     "execution_count": 7,
     "metadata": {},
     "output_type": "execute_result"
    }
   ],
   "source": [
    "data.select_dtypes('int64').head(5)"
   ]
  },
  {
   "cell_type": "markdown",
   "id": "5606132d",
   "metadata": {},
   "source": [
    "#### Float data type"
   ]
  },
  {
   "cell_type": "code",
   "execution_count": 8,
   "id": "e00d0887",
   "metadata": {},
   "outputs": [
    {
     "data": {
      "text/html": [
       "<div>\n",
       "<style scoped>\n",
       "    .dataframe tbody tr th:only-of-type {\n",
       "        vertical-align: middle;\n",
       "    }\n",
       "\n",
       "    .dataframe tbody tr th {\n",
       "        vertical-align: top;\n",
       "    }\n",
       "\n",
       "    .dataframe thead th {\n",
       "        text-align: right;\n",
       "    }\n",
       "</style>\n",
       "<table border=\"1\" class=\"dataframe\">\n",
       "  <thead>\n",
       "    <tr style=\"text-align: right;\">\n",
       "      <th></th>\n",
       "      <th>pickup_longitude</th>\n",
       "      <th>pickup_latitude</th>\n",
       "      <th>dropoff_longitude</th>\n",
       "      <th>dropoff_latitude</th>\n",
       "    </tr>\n",
       "  </thead>\n",
       "  <tbody>\n",
       "    <tr>\n",
       "      <th>0</th>\n",
       "      <td>-73.953918</td>\n",
       "      <td>40.778873</td>\n",
       "      <td>-73.963875</td>\n",
       "      <td>40.771164</td>\n",
       "    </tr>\n",
       "    <tr>\n",
       "      <th>1</th>\n",
       "      <td>-73.988312</td>\n",
       "      <td>40.731743</td>\n",
       "      <td>-73.994751</td>\n",
       "      <td>40.694931</td>\n",
       "    </tr>\n",
       "    <tr>\n",
       "      <th>2</th>\n",
       "      <td>-73.997314</td>\n",
       "      <td>40.721458</td>\n",
       "      <td>-73.948029</td>\n",
       "      <td>40.774918</td>\n",
       "    </tr>\n",
       "    <tr>\n",
       "      <th>3</th>\n",
       "      <td>-73.961670</td>\n",
       "      <td>40.759720</td>\n",
       "      <td>-73.956779</td>\n",
       "      <td>40.780628</td>\n",
       "    </tr>\n",
       "    <tr>\n",
       "      <th>4</th>\n",
       "      <td>-74.017120</td>\n",
       "      <td>40.708469</td>\n",
       "      <td>-73.988182</td>\n",
       "      <td>40.740631</td>\n",
       "    </tr>\n",
       "  </tbody>\n",
       "</table>\n",
       "</div>"
      ],
      "text/plain": [
       "   pickup_longitude  pickup_latitude  dropoff_longitude  dropoff_latitude\n",
       "0        -73.953918        40.778873         -73.963875         40.771164\n",
       "1        -73.988312        40.731743         -73.994751         40.694931\n",
       "2        -73.997314        40.721458         -73.948029         40.774918\n",
       "3        -73.961670        40.759720         -73.956779         40.780628\n",
       "4        -74.017120        40.708469         -73.988182         40.740631"
      ]
     },
     "execution_count": 8,
     "metadata": {},
     "output_type": "execute_result"
    }
   ],
   "source": [
    "data.select_dtypes('float64').head(5)"
   ]
  },
  {
   "cell_type": "code",
   "execution_count": 9,
   "id": "ed5714bd",
   "metadata": {},
   "outputs": [],
   "source": [
    "# since there are only two vendors this can be comsidered as a category\n",
    "data.vendor_id = data.vendor_id.astype('category')"
   ]
  },
  {
   "cell_type": "markdown",
   "id": "b479456a",
   "metadata": {},
   "source": [
    "#### Object data type"
   ]
  },
  {
   "cell_type": "code",
   "execution_count": 10,
   "id": "a3e6fb3c",
   "metadata": {},
   "outputs": [
    {
     "data": {
      "text/html": [
       "<div>\n",
       "<style scoped>\n",
       "    .dataframe tbody tr th:only-of-type {\n",
       "        vertical-align: middle;\n",
       "    }\n",
       "\n",
       "    .dataframe tbody tr th {\n",
       "        vertical-align: top;\n",
       "    }\n",
       "\n",
       "    .dataframe thead th {\n",
       "        text-align: right;\n",
       "    }\n",
       "</style>\n",
       "<table border=\"1\" class=\"dataframe\">\n",
       "  <thead>\n",
       "    <tr style=\"text-align: right;\">\n",
       "      <th></th>\n",
       "      <th>id</th>\n",
       "      <th>pickup_datetime</th>\n",
       "      <th>dropoff_datetime</th>\n",
       "      <th>store_and_fwd_flag</th>\n",
       "    </tr>\n",
       "  </thead>\n",
       "  <tbody>\n",
       "    <tr>\n",
       "      <th>0</th>\n",
       "      <td>id1080784</td>\n",
       "      <td>2016-02-29 16:40:21</td>\n",
       "      <td>2016-02-29 16:47:01</td>\n",
       "      <td>N</td>\n",
       "    </tr>\n",
       "    <tr>\n",
       "      <th>1</th>\n",
       "      <td>id0889885</td>\n",
       "      <td>2016-03-11 23:35:37</td>\n",
       "      <td>2016-03-11 23:53:57</td>\n",
       "      <td>N</td>\n",
       "    </tr>\n",
       "    <tr>\n",
       "      <th>2</th>\n",
       "      <td>id0857912</td>\n",
       "      <td>2016-02-21 17:59:33</td>\n",
       "      <td>2016-02-21 18:26:48</td>\n",
       "      <td>N</td>\n",
       "    </tr>\n",
       "    <tr>\n",
       "      <th>3</th>\n",
       "      <td>id3744273</td>\n",
       "      <td>2016-01-05 09:44:31</td>\n",
       "      <td>2016-01-05 10:03:32</td>\n",
       "      <td>N</td>\n",
       "    </tr>\n",
       "    <tr>\n",
       "      <th>4</th>\n",
       "      <td>id0232939</td>\n",
       "      <td>2016-02-17 06:42:23</td>\n",
       "      <td>2016-02-17 06:56:31</td>\n",
       "      <td>N</td>\n",
       "    </tr>\n",
       "  </tbody>\n",
       "</table>\n",
       "</div>"
      ],
      "text/plain": [
       "          id      pickup_datetime     dropoff_datetime store_and_fwd_flag\n",
       "0  id1080784  2016-02-29 16:40:21  2016-02-29 16:47:01                  N\n",
       "1  id0889885  2016-03-11 23:35:37  2016-03-11 23:53:57                  N\n",
       "2  id0857912  2016-02-21 17:59:33  2016-02-21 18:26:48                  N\n",
       "3  id3744273  2016-01-05 09:44:31  2016-01-05 10:03:32                  N\n",
       "4  id0232939  2016-02-17 06:42:23  2016-02-17 06:56:31                  N"
      ]
     },
     "execution_count": 10,
     "metadata": {},
     "output_type": "execute_result"
    }
   ],
   "source": [
    "data.select_dtypes('object').head(5)"
   ]
  },
  {
   "cell_type": "code",
   "execution_count": 11,
   "id": "c4e01062",
   "metadata": {},
   "outputs": [],
   "source": [
    "# pickup_datetime and dropoff_datetime \n",
    "data.pickup_datetime = pd.to_datetime(data.pickup_datetime)\n",
    "data.dropoff_datetime = pd.to_datetime(data.dropoff_datetime)"
   ]
  },
  {
   "cell_type": "code",
   "execution_count": 12,
   "id": "cbe9e093",
   "metadata": {},
   "outputs": [],
   "source": [
    "# store_and_fwd_flag is a category data type\n",
    "data.store_and_fwd_flag = data.store_and_fwd_flag.astype('category')"
   ]
  },
  {
   "cell_type": "code",
   "execution_count": 13,
   "id": "3aa5420d",
   "metadata": {},
   "outputs": [],
   "source": [
    "# adding an additional column called trip_duration_in_hrs \n",
    "data['trip_duration_in_hrs'] = (data.trip_duration/(60*60)).round(2)"
   ]
  },
  {
   "cell_type": "code",
   "execution_count": 14,
   "id": "ba39e6eb",
   "metadata": {},
   "outputs": [
    {
     "data": {
      "text/html": [
       "<div>\n",
       "<style scoped>\n",
       "    .dataframe tbody tr th:only-of-type {\n",
       "        vertical-align: middle;\n",
       "    }\n",
       "\n",
       "    .dataframe tbody tr th {\n",
       "        vertical-align: top;\n",
       "    }\n",
       "\n",
       "    .dataframe thead th {\n",
       "        text-align: right;\n",
       "    }\n",
       "</style>\n",
       "<table border=\"1\" class=\"dataframe\">\n",
       "  <thead>\n",
       "    <tr style=\"text-align: right;\">\n",
       "      <th></th>\n",
       "      <th>passenger_count</th>\n",
       "      <th>pickup_longitude</th>\n",
       "      <th>pickup_latitude</th>\n",
       "      <th>dropoff_longitude</th>\n",
       "      <th>dropoff_latitude</th>\n",
       "      <th>trip_duration</th>\n",
       "      <th>trip_duration_in_hrs</th>\n",
       "    </tr>\n",
       "  </thead>\n",
       "  <tbody>\n",
       "    <tr>\n",
       "      <th>count</th>\n",
       "      <td>729322.000000</td>\n",
       "      <td>729322.000000</td>\n",
       "      <td>729322.000000</td>\n",
       "      <td>729322.000000</td>\n",
       "      <td>729322.000000</td>\n",
       "      <td>7.293220e+05</td>\n",
       "      <td>729322.000000</td>\n",
       "    </tr>\n",
       "    <tr>\n",
       "      <th>mean</th>\n",
       "      <td>1.662055</td>\n",
       "      <td>-73.973513</td>\n",
       "      <td>40.750919</td>\n",
       "      <td>-73.973422</td>\n",
       "      <td>40.751775</td>\n",
       "      <td>9.522291e+02</td>\n",
       "      <td>0.264504</td>\n",
       "    </tr>\n",
       "    <tr>\n",
       "      <th>std</th>\n",
       "      <td>1.312446</td>\n",
       "      <td>0.069754</td>\n",
       "      <td>0.033594</td>\n",
       "      <td>0.069588</td>\n",
       "      <td>0.036037</td>\n",
       "      <td>3.864626e+03</td>\n",
       "      <td>1.073519</td>\n",
       "    </tr>\n",
       "    <tr>\n",
       "      <th>min</th>\n",
       "      <td>0.000000</td>\n",
       "      <td>-121.933342</td>\n",
       "      <td>34.712234</td>\n",
       "      <td>-121.933304</td>\n",
       "      <td>32.181141</td>\n",
       "      <td>1.000000e+00</td>\n",
       "      <td>0.000000</td>\n",
       "    </tr>\n",
       "    <tr>\n",
       "      <th>25%</th>\n",
       "      <td>1.000000</td>\n",
       "      <td>-73.991859</td>\n",
       "      <td>40.737335</td>\n",
       "      <td>-73.991318</td>\n",
       "      <td>40.735931</td>\n",
       "      <td>3.970000e+02</td>\n",
       "      <td>0.110000</td>\n",
       "    </tr>\n",
       "    <tr>\n",
       "      <th>50%</th>\n",
       "      <td>1.000000</td>\n",
       "      <td>-73.981758</td>\n",
       "      <td>40.754070</td>\n",
       "      <td>-73.979759</td>\n",
       "      <td>40.754509</td>\n",
       "      <td>6.630000e+02</td>\n",
       "      <td>0.180000</td>\n",
       "    </tr>\n",
       "    <tr>\n",
       "      <th>75%</th>\n",
       "      <td>2.000000</td>\n",
       "      <td>-73.967361</td>\n",
       "      <td>40.768314</td>\n",
       "      <td>-73.963036</td>\n",
       "      <td>40.769741</td>\n",
       "      <td>1.075000e+03</td>\n",
       "      <td>0.300000</td>\n",
       "    </tr>\n",
       "    <tr>\n",
       "      <th>max</th>\n",
       "      <td>9.000000</td>\n",
       "      <td>-65.897385</td>\n",
       "      <td>51.881084</td>\n",
       "      <td>-65.897385</td>\n",
       "      <td>43.921028</td>\n",
       "      <td>1.939736e+06</td>\n",
       "      <td>538.820000</td>\n",
       "    </tr>\n",
       "  </tbody>\n",
       "</table>\n",
       "</div>"
      ],
      "text/plain": [
       "       passenger_count  pickup_longitude  pickup_latitude  dropoff_longitude  \\\n",
       "count    729322.000000     729322.000000    729322.000000      729322.000000   \n",
       "mean          1.662055        -73.973513        40.750919         -73.973422   \n",
       "std           1.312446          0.069754         0.033594           0.069588   \n",
       "min           0.000000       -121.933342        34.712234        -121.933304   \n",
       "25%           1.000000        -73.991859        40.737335         -73.991318   \n",
       "50%           1.000000        -73.981758        40.754070         -73.979759   \n",
       "75%           2.000000        -73.967361        40.768314         -73.963036   \n",
       "max           9.000000        -65.897385        51.881084         -65.897385   \n",
       "\n",
       "       dropoff_latitude  trip_duration  trip_duration_in_hrs  \n",
       "count     729322.000000   7.293220e+05         729322.000000  \n",
       "mean          40.751775   9.522291e+02              0.264504  \n",
       "std            0.036037   3.864626e+03              1.073519  \n",
       "min           32.181141   1.000000e+00              0.000000  \n",
       "25%           40.735931   3.970000e+02              0.110000  \n",
       "50%           40.754509   6.630000e+02              0.180000  \n",
       "75%           40.769741   1.075000e+03              0.300000  \n",
       "max           43.921028   1.939736e+06            538.820000  "
      ]
     },
     "execution_count": 14,
     "metadata": {},
     "output_type": "execute_result"
    }
   ],
   "source": [
    "data.describe()"
   ]
  },
  {
   "cell_type": "markdown",
   "id": "23b546e9",
   "metadata": {},
   "source": [
    "## Summary of the dataset\n",
    "###  * Numerical Variables are \n",
    "pickup_datetime,          \n",
    "dropoff_datetime,         \n",
    "passenger_count,           \n",
    "pickup_longitude,        \n",
    "pickup_latitude,         \n",
    "dropoff_longitude,      \n",
    "dropoff_latitude,       \n",
    "trip_duration,             \n",
    "trip_duration_in_hrs.          \n",
    "### * Categorical Variables are \n",
    "Vendor_id,\n",
    "store_and_fwd_flag.\n",
    "### 1) Vendors\n",
    "There are two vendors namely Vendor 1 and Vendor 2\n",
    "\n",
    "Vendor 2 has the highest number of trips\n",
    "### 2) Passengers\n",
    "\n",
    "The minimum passenger count is 0 and maximum is 9\n",
    "### 3) Trip Duration\n",
    "\n",
    "The Mimimum trip duration is 0 and maximum is 538.82 hours\n",
    "\n",
    "The mean trip duration is 0.26 hours which is 16 minutes\n",
    "\n",
    "There are a lot of outliers in trip duration\n"
   ]
  },
  {
   "cell_type": "markdown",
   "id": "17ecfc81",
   "metadata": {},
   "source": [
    "### Feature Engineering"
   ]
  },
  {
   "cell_type": "code",
   "execution_count": 15,
   "id": "7bb0b3e6",
   "metadata": {},
   "outputs": [
    {
     "name": "stderr",
     "output_type": "stream",
     "text": [
      "C:\\Users\\Sujay\\AppData\\Local\\Temp\\ipykernel_1296\\1374314904.py:7: FutureWarning: Series.dt.weekofyear and Series.dt.week have been deprecated. Please use Series.dt.isocalendar().week instead.\n",
      "  data['pickup_week'] = data.pickup_datetime.dt.week\n",
      "C:\\Users\\Sujay\\AppData\\Local\\Temp\\ipykernel_1296\\1374314904.py:8: FutureWarning: Series.dt.weekofyear and Series.dt.week have been deprecated. Please use Series.dt.isocalendar().week instead.\n",
      "  data['dropoff_week'] = data.dropoff_datetime.dt.week\n"
     ]
    },
    {
     "data": {
      "text/html": [
       "<div>\n",
       "<style scoped>\n",
       "    .dataframe tbody tr th:only-of-type {\n",
       "        vertical-align: middle;\n",
       "    }\n",
       "\n",
       "    .dataframe tbody tr th {\n",
       "        vertical-align: top;\n",
       "    }\n",
       "\n",
       "    .dataframe thead th {\n",
       "        text-align: right;\n",
       "    }\n",
       "</style>\n",
       "<table border=\"1\" class=\"dataframe\">\n",
       "  <thead>\n",
       "    <tr style=\"text-align: right;\">\n",
       "      <th></th>\n",
       "      <th>id</th>\n",
       "      <th>vendor_id</th>\n",
       "      <th>pickup_datetime</th>\n",
       "      <th>dropoff_datetime</th>\n",
       "      <th>passenger_count</th>\n",
       "      <th>pickup_longitude</th>\n",
       "      <th>pickup_latitude</th>\n",
       "      <th>dropoff_longitude</th>\n",
       "      <th>dropoff_latitude</th>\n",
       "      <th>store_and_fwd_flag</th>\n",
       "      <th>trip_duration</th>\n",
       "      <th>trip_duration_in_hrs</th>\n",
       "      <th>pickup_hour</th>\n",
       "      <th>dropoff_hour</th>\n",
       "      <th>pickup_minute</th>\n",
       "      <th>dropoff_minute</th>\n",
       "      <th>pickup_week</th>\n",
       "      <th>dropoff_week</th>\n",
       "      <th>day_of_year</th>\n",
       "    </tr>\n",
       "  </thead>\n",
       "  <tbody>\n",
       "    <tr>\n",
       "      <th>0</th>\n",
       "      <td>id1080784</td>\n",
       "      <td>2</td>\n",
       "      <td>2016-02-29 16:40:21</td>\n",
       "      <td>2016-02-29 16:47:01</td>\n",
       "      <td>1</td>\n",
       "      <td>-73.953918</td>\n",
       "      <td>40.778873</td>\n",
       "      <td>-73.963875</td>\n",
       "      <td>40.771164</td>\n",
       "      <td>N</td>\n",
       "      <td>400</td>\n",
       "      <td>0.11</td>\n",
       "      <td>16</td>\n",
       "      <td>16</td>\n",
       "      <td>40</td>\n",
       "      <td>47</td>\n",
       "      <td>9</td>\n",
       "      <td>9</td>\n",
       "      <td>60</td>\n",
       "    </tr>\n",
       "    <tr>\n",
       "      <th>1</th>\n",
       "      <td>id0889885</td>\n",
       "      <td>1</td>\n",
       "      <td>2016-03-11 23:35:37</td>\n",
       "      <td>2016-03-11 23:53:57</td>\n",
       "      <td>2</td>\n",
       "      <td>-73.988312</td>\n",
       "      <td>40.731743</td>\n",
       "      <td>-73.994751</td>\n",
       "      <td>40.694931</td>\n",
       "      <td>N</td>\n",
       "      <td>1100</td>\n",
       "      <td>0.31</td>\n",
       "      <td>23</td>\n",
       "      <td>23</td>\n",
       "      <td>35</td>\n",
       "      <td>53</td>\n",
       "      <td>10</td>\n",
       "      <td>10</td>\n",
       "      <td>71</td>\n",
       "    </tr>\n",
       "  </tbody>\n",
       "</table>\n",
       "</div>"
      ],
      "text/plain": [
       "          id vendor_id     pickup_datetime    dropoff_datetime  \\\n",
       "0  id1080784         2 2016-02-29 16:40:21 2016-02-29 16:47:01   \n",
       "1  id0889885         1 2016-03-11 23:35:37 2016-03-11 23:53:57   \n",
       "\n",
       "   passenger_count  pickup_longitude  pickup_latitude  dropoff_longitude  \\\n",
       "0                1        -73.953918        40.778873         -73.963875   \n",
       "1                2        -73.988312        40.731743         -73.994751   \n",
       "\n",
       "   dropoff_latitude store_and_fwd_flag  trip_duration  trip_duration_in_hrs  \\\n",
       "0         40.771164                  N            400                  0.11   \n",
       "1         40.694931                  N           1100                  0.31   \n",
       "\n",
       "   pickup_hour  dropoff_hour  pickup_minute  dropoff_minute  pickup_week  \\\n",
       "0           16            16             40              47            9   \n",
       "1           23            23             35              53           10   \n",
       "\n",
       "   dropoff_week  day_of_year  \n",
       "0             9           60  \n",
       "1            10           71  "
      ]
     },
     "execution_count": 15,
     "metadata": {},
     "output_type": "execute_result"
    }
   ],
   "source": [
    "# Generating detetime related features \n",
    "import datetime\n",
    "data['pickup_hour'] = data.pickup_datetime.dt.hour\n",
    "data['dropoff_hour'] = data.dropoff_datetime.dt.hour\n",
    "data['pickup_minute'] = data.pickup_datetime.dt.minute\n",
    "data['dropoff_minute'] = data.dropoff_datetime.dt.minute\n",
    "data['pickup_week'] = data.pickup_datetime.dt.week  \n",
    "data['dropoff_week'] = data.dropoff_datetime.dt.week  \n",
    "data['day_of_year'] =data.pickup_datetime.dt.dayofyear\n",
    "data.head(2)"
   ]
  },
  {
   "cell_type": "code",
   "execution_count": 16,
   "id": "7e95d2ad",
   "metadata": {},
   "outputs": [],
   "source": [
    "# Calculating Distance\n",
    "def Haversine_distance(lat1,lon1,lat2,lon2): \n",
    "    latitude = lat1-lat2\n",
    "    long= lon1-lon2\n",
    "\n",
    "    d = 2*5574.8*(np.sqrt((np.sin(latitude)**2)+np.cos(lat1)*np.cos(lat2)*np.sin(long/2)))\n",
    "    return d"
   ]
  },
  {
   "cell_type": "code",
   "execution_count": 17,
   "id": "09618974",
   "metadata": {},
   "outputs": [
    {
     "name": "stderr",
     "output_type": "stream",
     "text": [
      "C:\\Users\\Sujay\\anaconda3\\lib\\site-packages\\pandas\\core\\arraylike.py:402: RuntimeWarning: invalid value encountered in sqrt\n",
      "  result = getattr(ufunc, method)(*inputs, **kwargs)\n"
     ]
    }
   ],
   "source": [
    "# Adding a fewture of distance between pickup and dropoff location\n",
    "data['distance'] = Haversine_distance(data.pickup_latitude,data.pickup_longitude,data.dropoff_latitude,data.dropoff_longitude)"
   ]
  },
  {
   "cell_type": "code",
   "execution_count": 18,
   "id": "41ad68bb",
   "metadata": {},
   "outputs": [],
   "source": [
    "# binning hour\n",
    "bins=[0,7,12,16,19,23]\n",
    "group=['Late night','Morning','Afternoon','Evening', 'Night']\n",
    "data[\"Hour_bin\"]=pd.cut(data['pickup_hour'], bins, labels=group)"
   ]
  },
  {
   "cell_type": "markdown",
   "id": "88d8559a",
   "metadata": {},
   "source": [
    "### Model Building\n",
    "##### 1) Impute missing values\n",
    "##### 2) Remove categorical variables\n",
    "##### 3) Treat outliers\n",
    "##### 4) Feature scaling and variable transformation\n",
    "##### 5) Model "
   ]
  },
  {
   "cell_type": "markdown",
   "id": "6e0d41c5",
   "metadata": {},
   "source": [
    "##### 1) Imputing missing values\n",
    "\n"
   ]
  },
  {
   "cell_type": "code",
   "execution_count": 19,
   "id": "b20752e4",
   "metadata": {},
   "outputs": [
    {
     "name": "stdout",
     "output_type": "stream",
     "text": [
      "Before imputing\n",
      "\n",
      " id                           0\n",
      "vendor_id                    0\n",
      "pickup_datetime              0\n",
      "dropoff_datetime             0\n",
      "passenger_count              0\n",
      "pickup_longitude             0\n",
      "pickup_latitude              0\n",
      "dropoff_longitude            0\n",
      "dropoff_latitude             0\n",
      "store_and_fwd_flag           0\n",
      "trip_duration                0\n",
      "trip_duration_in_hrs         0\n",
      "pickup_hour                  0\n",
      "dropoff_hour                 0\n",
      "pickup_minute                0\n",
      "dropoff_minute               0\n",
      "pickup_week                  0\n",
      "dropoff_week                 0\n",
      "day_of_year                  0\n",
      "distance                374501\n",
      "Hour_bin                 26726\n",
      "dtype: int64\n",
      "\n",
      "After imputing\n",
      "\n",
      " id                      0\n",
      "vendor_id               0\n",
      "pickup_datetime         0\n",
      "dropoff_datetime        0\n",
      "passenger_count         0\n",
      "pickup_longitude        0\n",
      "pickup_latitude         0\n",
      "dropoff_longitude       0\n",
      "dropoff_latitude        0\n",
      "store_and_fwd_flag      0\n",
      "trip_duration           0\n",
      "trip_duration_in_hrs    0\n",
      "pickup_hour             0\n",
      "dropoff_hour            0\n",
      "pickup_minute           0\n",
      "dropoff_minute          0\n",
      "pickup_week             0\n",
      "dropoff_week            0\n",
      "day_of_year             0\n",
      "distance                0\n",
      "Hour_bin                0\n",
      "dtype: int64\n"
     ]
    }
   ],
   "source": [
    "print(\"Before imputing\\n\\n\",data.isna().sum())\n",
    "data.distance = data.distance.fillna(data.distance.median())\n",
    "data.Hour_bin = data.Hour_bin.fillna(data.Hour_bin.mode()[0])\n",
    "print(\"\\nAfter imputing\\n\\n\",data.isna().sum())"
   ]
  },
  {
   "cell_type": "markdown",
   "id": "bc23d618",
   "metadata": {},
   "source": [
    "##### 2) Remove categorical variables"
   ]
  },
  {
   "cell_type": "code",
   "execution_count": 20,
   "id": "625e1176",
   "metadata": {},
   "outputs": [
    {
     "data": {
      "text/plain": [
       "id                              object\n",
       "vendor_id                     category\n",
       "pickup_datetime         datetime64[ns]\n",
       "dropoff_datetime        datetime64[ns]\n",
       "passenger_count                  int64\n",
       "pickup_longitude               float64\n",
       "pickup_latitude                float64\n",
       "dropoff_longitude              float64\n",
       "dropoff_latitude               float64\n",
       "store_and_fwd_flag            category\n",
       "trip_duration                    int64\n",
       "trip_duration_in_hrs           float64\n",
       "pickup_hour                      int64\n",
       "dropoff_hour                     int64\n",
       "pickup_minute                    int64\n",
       "dropoff_minute                   int64\n",
       "pickup_week                      int64\n",
       "dropoff_week                     int64\n",
       "day_of_year                      int64\n",
       "distance                       float64\n",
       "Hour_bin                      category\n",
       "dtype: object"
      ]
     },
     "execution_count": 20,
     "metadata": {},
     "output_type": "execute_result"
    }
   ],
   "source": [
    "data.dtypes"
   ]
  },
  {
   "cell_type": "code",
   "execution_count": 21,
   "id": "3b03e15e",
   "metadata": {},
   "outputs": [
    {
     "data": {
      "text/plain": [
       "pickup_datetime         datetime64[ns]\n",
       "dropoff_datetime        datetime64[ns]\n",
       "passenger_count                  int64\n",
       "pickup_longitude               float64\n",
       "pickup_latitude                float64\n",
       "dropoff_longitude              float64\n",
       "dropoff_latitude               float64\n",
       "trip_duration                    int64\n",
       "trip_duration_in_hrs           float64\n",
       "pickup_hour                      int64\n",
       "dropoff_hour                     int64\n",
       "pickup_minute                    int64\n",
       "dropoff_minute                   int64\n",
       "pickup_week                      int64\n",
       "dropoff_week                     int64\n",
       "day_of_year                      int64\n",
       "distance                       float64\n",
       "Hour_bin                      category\n",
       "dtype: object"
      ]
     },
     "execution_count": 21,
     "metadata": {},
     "output_type": "execute_result"
    }
   ],
   "source": [
    "data = data.drop(['id','vendor_id','store_and_fwd_flag'],axis = 1)\n",
    "data.dtypes"
   ]
  },
  {
   "cell_type": "markdown",
   "id": "68c2feab",
   "metadata": {},
   "source": [
    "##### 3) Outlier Treatement"
   ]
  },
  {
   "cell_type": "code",
   "execution_count": 22,
   "id": "81653bdb",
   "metadata": {},
   "outputs": [
    {
     "data": {
      "text/html": [
       "<div>\n",
       "<style scoped>\n",
       "    .dataframe tbody tr th:only-of-type {\n",
       "        vertical-align: middle;\n",
       "    }\n",
       "\n",
       "    .dataframe tbody tr th {\n",
       "        vertical-align: top;\n",
       "    }\n",
       "\n",
       "    .dataframe thead th {\n",
       "        text-align: right;\n",
       "    }\n",
       "</style>\n",
       "<table border=\"1\" class=\"dataframe\">\n",
       "  <thead>\n",
       "    <tr style=\"text-align: right;\">\n",
       "      <th></th>\n",
       "      <th>passenger_count</th>\n",
       "      <th>pickup_longitude</th>\n",
       "      <th>pickup_latitude</th>\n",
       "      <th>dropoff_longitude</th>\n",
       "      <th>dropoff_latitude</th>\n",
       "      <th>trip_duration</th>\n",
       "      <th>trip_duration_in_hrs</th>\n",
       "      <th>pickup_hour</th>\n",
       "      <th>dropoff_hour</th>\n",
       "      <th>pickup_minute</th>\n",
       "      <th>dropoff_minute</th>\n",
       "      <th>pickup_week</th>\n",
       "      <th>dropoff_week</th>\n",
       "      <th>day_of_year</th>\n",
       "      <th>distance</th>\n",
       "    </tr>\n",
       "  </thead>\n",
       "  <tbody>\n",
       "    <tr>\n",
       "      <th>count</th>\n",
       "      <td>729322.000000</td>\n",
       "      <td>729322.000000</td>\n",
       "      <td>729322.000000</td>\n",
       "      <td>729322.000000</td>\n",
       "      <td>729322.000000</td>\n",
       "      <td>7.293220e+05</td>\n",
       "      <td>729322.000000</td>\n",
       "      <td>729322.000000</td>\n",
       "      <td>729322.00000</td>\n",
       "      <td>729322.000000</td>\n",
       "      <td>729322.000000</td>\n",
       "      <td>729322.000000</td>\n",
       "      <td>729322.000000</td>\n",
       "      <td>729322.000000</td>\n",
       "      <td>729322.000000</td>\n",
       "    </tr>\n",
       "    <tr>\n",
       "      <th>mean</th>\n",
       "      <td>1.662055</td>\n",
       "      <td>-73.973513</td>\n",
       "      <td>40.750919</td>\n",
       "      <td>-73.973422</td>\n",
       "      <td>40.751775</td>\n",
       "      <td>9.522291e+02</td>\n",
       "      <td>0.264504</td>\n",
       "      <td>13.611698</td>\n",
       "      <td>13.60616</td>\n",
       "      <td>29.597785</td>\n",
       "      <td>29.631301</td>\n",
       "      <td>13.843884</td>\n",
       "      <td>13.842964</td>\n",
       "      <td>91.882577</td>\n",
       "      <td>960.314852</td>\n",
       "    </tr>\n",
       "    <tr>\n",
       "      <th>std</th>\n",
       "      <td>1.312446</td>\n",
       "      <td>0.069754</td>\n",
       "      <td>0.033594</td>\n",
       "      <td>0.069588</td>\n",
       "      <td>0.036037</td>\n",
       "      <td>3.864626e+03</td>\n",
       "      <td>1.073519</td>\n",
       "      <td>6.402853</td>\n",
       "      <td>6.48637</td>\n",
       "      <td>17.332400</td>\n",
       "      <td>17.420089</td>\n",
       "      <td>8.558386</td>\n",
       "      <td>8.555423</td>\n",
       "      <td>51.555655</td>\n",
       "      <td>530.222983</td>\n",
       "    </tr>\n",
       "    <tr>\n",
       "      <th>min</th>\n",
       "      <td>0.000000</td>\n",
       "      <td>-121.933342</td>\n",
       "      <td>34.712234</td>\n",
       "      <td>-121.933304</td>\n",
       "      <td>32.181141</td>\n",
       "      <td>1.000000e+00</td>\n",
       "      <td>0.000000</td>\n",
       "      <td>0.000000</td>\n",
       "      <td>0.00000</td>\n",
       "      <td>0.000000</td>\n",
       "      <td>0.000000</td>\n",
       "      <td>1.000000</td>\n",
       "      <td>1.000000</td>\n",
       "      <td>1.000000</td>\n",
       "      <td>0.000000</td>\n",
       "    </tr>\n",
       "    <tr>\n",
       "      <th>25%</th>\n",
       "      <td>1.000000</td>\n",
       "      <td>-73.991859</td>\n",
       "      <td>40.737335</td>\n",
       "      <td>-73.991318</td>\n",
       "      <td>40.735931</td>\n",
       "      <td>3.970000e+02</td>\n",
       "      <td>0.110000</td>\n",
       "      <td>9.000000</td>\n",
       "      <td>9.00000</td>\n",
       "      <td>15.000000</td>\n",
       "      <td>15.000000</td>\n",
       "      <td>7.000000</td>\n",
       "      <td>7.000000</td>\n",
       "      <td>48.000000</td>\n",
       "      <td>874.965380</td>\n",
       "    </tr>\n",
       "    <tr>\n",
       "      <th>50%</th>\n",
       "      <td>1.000000</td>\n",
       "      <td>-73.981758</td>\n",
       "      <td>40.754070</td>\n",
       "      <td>-73.979759</td>\n",
       "      <td>40.754509</td>\n",
       "      <td>6.630000e+02</td>\n",
       "      <td>0.180000</td>\n",
       "      <td>14.000000</td>\n",
       "      <td>14.00000</td>\n",
       "      <td>30.000000</td>\n",
       "      <td>30.000000</td>\n",
       "      <td>13.000000</td>\n",
       "      <td>13.000000</td>\n",
       "      <td>92.000000</td>\n",
       "      <td>874.965380</td>\n",
       "    </tr>\n",
       "    <tr>\n",
       "      <th>75%</th>\n",
       "      <td>2.000000</td>\n",
       "      <td>-73.967361</td>\n",
       "      <td>40.768314</td>\n",
       "      <td>-73.963036</td>\n",
       "      <td>40.769741</td>\n",
       "      <td>1.075000e+03</td>\n",
       "      <td>0.300000</td>\n",
       "      <td>19.000000</td>\n",
       "      <td>19.00000</td>\n",
       "      <td>45.000000</td>\n",
       "      <td>45.000000</td>\n",
       "      <td>20.000000</td>\n",
       "      <td>20.000000</td>\n",
       "      <td>136.000000</td>\n",
       "      <td>874.965380</td>\n",
       "    </tr>\n",
       "    <tr>\n",
       "      <th>max</th>\n",
       "      <td>9.000000</td>\n",
       "      <td>-65.897385</td>\n",
       "      <td>51.881084</td>\n",
       "      <td>-65.897385</td>\n",
       "      <td>43.921028</td>\n",
       "      <td>1.939736e+06</td>\n",
       "      <td>538.820000</td>\n",
       "      <td>23.000000</td>\n",
       "      <td>23.00000</td>\n",
       "      <td>59.000000</td>\n",
       "      <td>59.000000</td>\n",
       "      <td>53.000000</td>\n",
       "      <td>53.000000</td>\n",
       "      <td>182.000000</td>\n",
       "      <td>11186.791798</td>\n",
       "    </tr>\n",
       "  </tbody>\n",
       "</table>\n",
       "</div>"
      ],
      "text/plain": [
       "       passenger_count  pickup_longitude  pickup_latitude  dropoff_longitude  \\\n",
       "count    729322.000000     729322.000000    729322.000000      729322.000000   \n",
       "mean          1.662055        -73.973513        40.750919         -73.973422   \n",
       "std           1.312446          0.069754         0.033594           0.069588   \n",
       "min           0.000000       -121.933342        34.712234        -121.933304   \n",
       "25%           1.000000        -73.991859        40.737335         -73.991318   \n",
       "50%           1.000000        -73.981758        40.754070         -73.979759   \n",
       "75%           2.000000        -73.967361        40.768314         -73.963036   \n",
       "max           9.000000        -65.897385        51.881084         -65.897385   \n",
       "\n",
       "       dropoff_latitude  trip_duration  trip_duration_in_hrs    pickup_hour  \\\n",
       "count     729322.000000   7.293220e+05         729322.000000  729322.000000   \n",
       "mean          40.751775   9.522291e+02              0.264504      13.611698   \n",
       "std            0.036037   3.864626e+03              1.073519       6.402853   \n",
       "min           32.181141   1.000000e+00              0.000000       0.000000   \n",
       "25%           40.735931   3.970000e+02              0.110000       9.000000   \n",
       "50%           40.754509   6.630000e+02              0.180000      14.000000   \n",
       "75%           40.769741   1.075000e+03              0.300000      19.000000   \n",
       "max           43.921028   1.939736e+06            538.820000      23.000000   \n",
       "\n",
       "       dropoff_hour  pickup_minute  dropoff_minute    pickup_week  \\\n",
       "count  729322.00000  729322.000000   729322.000000  729322.000000   \n",
       "mean       13.60616      29.597785       29.631301      13.843884   \n",
       "std         6.48637      17.332400       17.420089       8.558386   \n",
       "min         0.00000       0.000000        0.000000       1.000000   \n",
       "25%         9.00000      15.000000       15.000000       7.000000   \n",
       "50%        14.00000      30.000000       30.000000      13.000000   \n",
       "75%        19.00000      45.000000       45.000000      20.000000   \n",
       "max        23.00000      59.000000       59.000000      53.000000   \n",
       "\n",
       "        dropoff_week    day_of_year       distance  \n",
       "count  729322.000000  729322.000000  729322.000000  \n",
       "mean       13.842964      91.882577     960.314852  \n",
       "std         8.555423      51.555655     530.222983  \n",
       "min         1.000000       1.000000       0.000000  \n",
       "25%         7.000000      48.000000     874.965380  \n",
       "50%        13.000000      92.000000     874.965380  \n",
       "75%        20.000000     136.000000     874.965380  \n",
       "max        53.000000     182.000000   11186.791798  "
      ]
     },
     "execution_count": 22,
     "metadata": {},
     "output_type": "execute_result"
    }
   ],
   "source": [
    "data.describe()"
   ]
  },
  {
   "cell_type": "code",
   "execution_count": 23,
   "id": "33d1ced6",
   "metadata": {},
   "outputs": [
    {
     "name": "stderr",
     "output_type": "stream",
     "text": [
      "C:\\Users\\Sujay\\AppData\\Local\\Temp\\ipykernel_1296\\33877970.py:9: SettingWithCopyWarning: \n",
      "A value is trying to be set on a copy of a slice from a DataFrame\n",
      "\n",
      "See the caveats in the documentation: https://pandas.pydata.org/pandas-docs/stable/user_guide/indexing.html#returning-a-view-versus-a-copy\n",
      "  data.trip_duration_in_hrs.loc[data.trip_duration_in_hrs < whis_low] = whis_low\n",
      "C:\\Users\\Sujay\\AppData\\Local\\Temp\\ipykernel_1296\\33877970.py:10: SettingWithCopyWarning: \n",
      "A value is trying to be set on a copy of a slice from a DataFrame\n",
      "\n",
      "See the caveats in the documentation: https://pandas.pydata.org/pandas-docs/stable/user_guide/indexing.html#returning-a-view-versus-a-copy\n",
      "  data.trip_duration_in_hrs.loc[data.trip_duration_in_hrs > whis_high] = whis_high\n"
     ]
    },
    {
     "data": {
      "text/plain": [
       "count    729322.000000\n",
       "mean          0.255783\n",
       "std           0.119874\n",
       "min           0.175000\n",
       "25%           0.175000\n",
       "50%           0.180000\n",
       "75%           0.300000\n",
       "max           0.585000\n",
       "Name: trip_duration_in_hrs, dtype: float64"
      ]
     },
     "execution_count": 23,
     "metadata": {},
     "output_type": "execute_result"
    }
   ],
   "source": [
    "# Outlier treatement for trip duration\n",
    "\n",
    "Q1 = data.trip_duration_in_hrs.quantile(0.25)\n",
    "Q3 = data.trip_duration_in_hrs.quantile(0.75)\n",
    "IQR = Q3 - Q1\n",
    "whis_low = abs(Q1 - 1.5*IQR)\n",
    "whis_high =1.5*IQR +Q3\n",
    "\n",
    "data.trip_duration_in_hrs.loc[data.trip_duration_in_hrs < whis_low] = whis_low\n",
    "data.trip_duration_in_hrs.loc[data.trip_duration_in_hrs > whis_high] = whis_high\n",
    "\n",
    "data.trip_duration_in_hrs.describe()"
   ]
  },
  {
   "cell_type": "markdown",
   "id": "28dcc44f",
   "metadata": {},
   "source": [
    "#### 4) Scaling"
   ]
  },
  {
   "cell_type": "code",
   "execution_count": 24,
   "id": "7fa9c3d1",
   "metadata": {},
   "outputs": [],
   "source": [
    "from sklearn.preprocessing import StandardScaler\n",
    "scaler = StandardScaler()"
   ]
  },
  {
   "cell_type": "code",
   "execution_count": 25,
   "id": "cd5dc83f",
   "metadata": {},
   "outputs": [
    {
     "data": {
      "text/html": [
       "<div>\n",
       "<style scoped>\n",
       "    .dataframe tbody tr th:only-of-type {\n",
       "        vertical-align: middle;\n",
       "    }\n",
       "\n",
       "    .dataframe tbody tr th {\n",
       "        vertical-align: top;\n",
       "    }\n",
       "\n",
       "    .dataframe thead th {\n",
       "        text-align: right;\n",
       "    }\n",
       "</style>\n",
       "<table border=\"1\" class=\"dataframe\">\n",
       "  <thead>\n",
       "    <tr style=\"text-align: right;\">\n",
       "      <th></th>\n",
       "      <th>passenger_count</th>\n",
       "      <th>pickup_longitude</th>\n",
       "      <th>pickup_latitude</th>\n",
       "      <th>dropoff_longitude</th>\n",
       "      <th>dropoff_latitude</th>\n",
       "      <th>trip_duration</th>\n",
       "      <th>trip_duration_in_hrs</th>\n",
       "      <th>pickup_hour</th>\n",
       "      <th>dropoff_hour</th>\n",
       "      <th>pickup_minute</th>\n",
       "      <th>dropoff_minute</th>\n",
       "      <th>pickup_week</th>\n",
       "      <th>dropoff_week</th>\n",
       "      <th>day_of_year</th>\n",
       "      <th>distance</th>\n",
       "    </tr>\n",
       "  </thead>\n",
       "  <tbody>\n",
       "    <tr>\n",
       "      <th>0</th>\n",
       "      <td>-0.504444</td>\n",
       "      <td>0.280911</td>\n",
       "      <td>0.832127</td>\n",
       "      <td>0.137198</td>\n",
       "      <td>0.538014</td>\n",
       "      <td>-0.142893</td>\n",
       "      <td>-0.673900</td>\n",
       "      <td>0.373006</td>\n",
       "      <td>0.369057</td>\n",
       "      <td>0.600161</td>\n",
       "      <td>0.997051</td>\n",
       "      <td>-0.565981</td>\n",
       "      <td>-0.566070</td>\n",
       "      <td>-0.618411</td>\n",
       "      <td>-0.321851</td>\n",
       "    </tr>\n",
       "    <tr>\n",
       "      <th>1</th>\n",
       "      <td>0.257493</td>\n",
       "      <td>-0.212156</td>\n",
       "      <td>-0.570815</td>\n",
       "      <td>-0.306500</td>\n",
       "      <td>-1.577382</td>\n",
       "      <td>0.038237</td>\n",
       "      <td>0.452285</td>\n",
       "      <td>1.466269</td>\n",
       "      <td>1.448244</td>\n",
       "      <td>0.311683</td>\n",
       "      <td>1.341481</td>\n",
       "      <td>-0.449137</td>\n",
       "      <td>-0.449185</td>\n",
       "      <td>-0.405049</td>\n",
       "      <td>-0.397246</td>\n",
       "    </tr>\n",
       "    <tr>\n",
       "      <th>2</th>\n",
       "      <td>0.257493</td>\n",
       "      <td>-0.341220</td>\n",
       "      <td>-0.876953</td>\n",
       "      <td>0.364913</td>\n",
       "      <td>0.642175</td>\n",
       "      <td>0.176672</td>\n",
       "      <td>1.620180</td>\n",
       "      <td>0.529187</td>\n",
       "      <td>0.677396</td>\n",
       "      <td>1.696374</td>\n",
       "      <td>-0.208455</td>\n",
       "      <td>-0.799670</td>\n",
       "      <td>-0.799840</td>\n",
       "      <td>-0.773584</td>\n",
       "      <td>-0.160969</td>\n",
       "    </tr>\n",
       "    <tr>\n",
       "      <th>3</th>\n",
       "      <td>3.305240</td>\n",
       "      <td>0.169785</td>\n",
       "      <td>0.261980</td>\n",
       "      <td>0.239160</td>\n",
       "      <td>0.800639</td>\n",
       "      <td>0.048846</td>\n",
       "      <td>0.535706</td>\n",
       "      <td>-0.720257</td>\n",
       "      <td>-0.555960</td>\n",
       "      <td>0.830942</td>\n",
       "      <td>-1.528771</td>\n",
       "      <td>-1.500738</td>\n",
       "      <td>-1.501150</td>\n",
       "      <td>-1.685220</td>\n",
       "      <td>-0.160969</td>\n",
       "    </tr>\n",
       "    <tr>\n",
       "      <th>4</th>\n",
       "      <td>-0.504444</td>\n",
       "      <td>-0.625160</td>\n",
       "      <td>-1.263600</td>\n",
       "      <td>-0.212103</td>\n",
       "      <td>-0.309245</td>\n",
       "      <td>-0.026970</td>\n",
       "      <td>-0.131663</td>\n",
       "      <td>-1.188799</td>\n",
       "      <td>-1.172638</td>\n",
       "      <td>0.715551</td>\n",
       "      <td>1.513696</td>\n",
       "      <td>-0.799670</td>\n",
       "      <td>-0.799840</td>\n",
       "      <td>-0.851170</td>\n",
       "      <td>-0.160969</td>\n",
       "    </tr>\n",
       "  </tbody>\n",
       "</table>\n",
       "</div>"
      ],
      "text/plain": [
       "   passenger_count  pickup_longitude  pickup_latitude  dropoff_longitude  \\\n",
       "0        -0.504444          0.280911         0.832127           0.137198   \n",
       "1         0.257493         -0.212156        -0.570815          -0.306500   \n",
       "2         0.257493         -0.341220        -0.876953           0.364913   \n",
       "3         3.305240          0.169785         0.261980           0.239160   \n",
       "4        -0.504444         -0.625160        -1.263600          -0.212103   \n",
       "\n",
       "   dropoff_latitude  trip_duration  trip_duration_in_hrs  pickup_hour  \\\n",
       "0          0.538014      -0.142893             -0.673900     0.373006   \n",
       "1         -1.577382       0.038237              0.452285     1.466269   \n",
       "2          0.642175       0.176672              1.620180     0.529187   \n",
       "3          0.800639       0.048846              0.535706    -0.720257   \n",
       "4         -0.309245      -0.026970             -0.131663    -1.188799   \n",
       "\n",
       "   dropoff_hour  pickup_minute  dropoff_minute  pickup_week  dropoff_week  \\\n",
       "0      0.369057       0.600161        0.997051    -0.565981     -0.566070   \n",
       "1      1.448244       0.311683        1.341481    -0.449137     -0.449185   \n",
       "2      0.677396       1.696374       -0.208455    -0.799670     -0.799840   \n",
       "3     -0.555960       0.830942       -1.528771    -1.500738     -1.501150   \n",
       "4     -1.172638       0.715551        1.513696    -0.799670     -0.799840   \n",
       "\n",
       "   day_of_year  distance  \n",
       "0    -0.618411 -0.321851  \n",
       "1    -0.405049 -0.397246  \n",
       "2    -0.773584 -0.160969  \n",
       "3    -1.685220 -0.160969  \n",
       "4    -0.851170 -0.160969  "
      ]
     },
     "execution_count": 25,
     "metadata": {},
     "output_type": "execute_result"
    }
   ],
   "source": [
    "numerical_columns = data.select_dtypes(include=['int64', 'float64'])\n",
    "scaler = StandardScaler()\n",
    "scaled_data = scaler.fit_transform(numerical_columns)\n",
    "scaled_data = pd.DataFrame(scaled_data, columns=numerical_columns.columns)\n",
    "scaled_data.head()"
   ]
  },
  {
   "cell_type": "code",
   "execution_count": 26,
   "id": "1bbdd13a",
   "metadata": {},
   "outputs": [
    {
     "data": {
      "text/plain": [
       "((729322, 13), (729322,))"
      ]
     },
     "execution_count": 26,
     "metadata": {},
     "output_type": "execute_result"
    }
   ],
   "source": [
    "x = scaled_data.drop(['trip_duration','trip_duration_in_hrs'],axis = 1)\n",
    "y = data.trip_duration_in_hrs\n",
    "x.shape,y.shape"
   ]
  },
  {
   "cell_type": "code",
   "execution_count": 27,
   "id": "a9c0ebff",
   "metadata": {},
   "outputs": [
    {
     "data": {
      "text/plain": [
       "Index(['passenger_count', 'pickup_longitude', 'pickup_latitude',\n",
       "       'dropoff_longitude', 'dropoff_latitude', 'pickup_hour', 'dropoff_hour',\n",
       "       'pickup_minute', 'dropoff_minute', 'pickup_week', 'dropoff_week',\n",
       "       'day_of_year', 'distance'],\n",
       "      dtype='object')"
      ]
     },
     "execution_count": 27,
     "metadata": {},
     "output_type": "execute_result"
    }
   ],
   "source": [
    "x.columns"
   ]
  },
  {
   "cell_type": "code",
   "execution_count": 28,
   "id": "4e8af5d4",
   "metadata": {},
   "outputs": [],
   "source": [
    "from sklearn.model_selection import train_test_split\n",
    "from sklearn.metrics import r2_score"
   ]
  },
  {
   "cell_type": "code",
   "execution_count": 29,
   "id": "4f44346f",
   "metadata": {},
   "outputs": [
    {
     "data": {
      "text/plain": [
       "((546991, 13), (546991,), (182331, 13), (182331,))"
      ]
     },
     "execution_count": 29,
     "metadata": {},
     "output_type": "execute_result"
    }
   ],
   "source": [
    "# normal split\n",
    "train_x,test_x,train_y,test_y = train_test_split(x,y,random_state = 101)\n",
    "train_x.shape,train_y.shape,test_x.shape,test_y.shape"
   ]
  },
  {
   "cell_type": "markdown",
   "id": "ed1d05bb",
   "metadata": {},
   "source": [
    "#####  5)  Model"
   ]
  },
  {
   "cell_type": "code",
   "execution_count": 30,
   "id": "44b42a5f",
   "metadata": {},
   "outputs": [],
   "source": [
    "# Ridge linear reression model\n",
    "from sklearn.linear_model import Ridge\n",
    "alpha = 1.0  \n",
    "ridge_model = Ridge(alpha=alpha)"
   ]
  },
  {
   "cell_type": "code",
   "execution_count": 31,
   "id": "32b7cc78",
   "metadata": {},
   "outputs": [],
   "source": [
    "ridge_model.fit(train_x, train_y)\n",
    "pred_test = ridge_model.predict(test_x)"
   ]
  },
  {
   "cell_type": "code",
   "execution_count": 32,
   "id": "92a62bab",
   "metadata": {},
   "outputs": [
    {
     "data": {
      "text/plain": [
       "0.38"
      ]
     },
     "execution_count": 32,
     "metadata": {},
     "output_type": "execute_result"
    }
   ],
   "source": [
    "# r2 score\n",
    "r2_score(test_y, pred_test).round(2)"
   ]
  },
  {
   "cell_type": "code",
   "execution_count": 33,
   "id": "6dcb0d0c",
   "metadata": {},
   "outputs": [],
   "source": [
    "# Decision tree regression model\n",
    "from sklearn.tree import DecisionTreeRegressor\n",
    "dt = DecisionTreeRegressor (random_state = 10)"
   ]
  },
  {
   "cell_type": "code",
   "execution_count": 34,
   "id": "897bbe08",
   "metadata": {},
   "outputs": [
    {
     "data": {
      "text/html": [
       "<style>#sk-container-id-1 {color: black;background-color: white;}#sk-container-id-1 pre{padding: 0;}#sk-container-id-1 div.sk-toggleable {background-color: white;}#sk-container-id-1 label.sk-toggleable__label {cursor: pointer;display: block;width: 100%;margin-bottom: 0;padding: 0.3em;box-sizing: border-box;text-align: center;}#sk-container-id-1 label.sk-toggleable__label-arrow:before {content: \"▸\";float: left;margin-right: 0.25em;color: #696969;}#sk-container-id-1 label.sk-toggleable__label-arrow:hover:before {color: black;}#sk-container-id-1 div.sk-estimator:hover label.sk-toggleable__label-arrow:before {color: black;}#sk-container-id-1 div.sk-toggleable__content {max-height: 0;max-width: 0;overflow: hidden;text-align: left;background-color: #f0f8ff;}#sk-container-id-1 div.sk-toggleable__content pre {margin: 0.2em;color: black;border-radius: 0.25em;background-color: #f0f8ff;}#sk-container-id-1 input.sk-toggleable__control:checked~div.sk-toggleable__content {max-height: 200px;max-width: 100%;overflow: auto;}#sk-container-id-1 input.sk-toggleable__control:checked~label.sk-toggleable__label-arrow:before {content: \"▾\";}#sk-container-id-1 div.sk-estimator input.sk-toggleable__control:checked~label.sk-toggleable__label {background-color: #d4ebff;}#sk-container-id-1 div.sk-label input.sk-toggleable__control:checked~label.sk-toggleable__label {background-color: #d4ebff;}#sk-container-id-1 input.sk-hidden--visually {border: 0;clip: rect(1px 1px 1px 1px);clip: rect(1px, 1px, 1px, 1px);height: 1px;margin: -1px;overflow: hidden;padding: 0;position: absolute;width: 1px;}#sk-container-id-1 div.sk-estimator {font-family: monospace;background-color: #f0f8ff;border: 1px dotted black;border-radius: 0.25em;box-sizing: border-box;margin-bottom: 0.5em;}#sk-container-id-1 div.sk-estimator:hover {background-color: #d4ebff;}#sk-container-id-1 div.sk-parallel-item::after {content: \"\";width: 100%;border-bottom: 1px solid gray;flex-grow: 1;}#sk-container-id-1 div.sk-label:hover label.sk-toggleable__label {background-color: #d4ebff;}#sk-container-id-1 div.sk-serial::before {content: \"\";position: absolute;border-left: 1px solid gray;box-sizing: border-box;top: 0;bottom: 0;left: 50%;z-index: 0;}#sk-container-id-1 div.sk-serial {display: flex;flex-direction: column;align-items: center;background-color: white;padding-right: 0.2em;padding-left: 0.2em;position: relative;}#sk-container-id-1 div.sk-item {position: relative;z-index: 1;}#sk-container-id-1 div.sk-parallel {display: flex;align-items: stretch;justify-content: center;background-color: white;position: relative;}#sk-container-id-1 div.sk-item::before, #sk-container-id-1 div.sk-parallel-item::before {content: \"\";position: absolute;border-left: 1px solid gray;box-sizing: border-box;top: 0;bottom: 0;left: 50%;z-index: -1;}#sk-container-id-1 div.sk-parallel-item {display: flex;flex-direction: column;z-index: 1;position: relative;background-color: white;}#sk-container-id-1 div.sk-parallel-item:first-child::after {align-self: flex-end;width: 50%;}#sk-container-id-1 div.sk-parallel-item:last-child::after {align-self: flex-start;width: 50%;}#sk-container-id-1 div.sk-parallel-item:only-child::after {width: 0;}#sk-container-id-1 div.sk-dashed-wrapped {border: 1px dashed gray;margin: 0 0.4em 0.5em 0.4em;box-sizing: border-box;padding-bottom: 0.4em;background-color: white;}#sk-container-id-1 div.sk-label label {font-family: monospace;font-weight: bold;display: inline-block;line-height: 1.2em;}#sk-container-id-1 div.sk-label-container {text-align: center;}#sk-container-id-1 div.sk-container {/* jupyter's `normalize.less` sets `[hidden] { display: none; }` but bootstrap.min.css set `[hidden] { display: none !important; }` so we also need the `!important` here to be able to override the default hidden behavior on the sphinx rendered scikit-learn.org. See: https://github.com/scikit-learn/scikit-learn/issues/21755 */display: inline-block !important;position: relative;}#sk-container-id-1 div.sk-text-repr-fallback {display: none;}</style><div id=\"sk-container-id-1\" class=\"sk-top-container\"><div class=\"sk-text-repr-fallback\"><pre>DecisionTreeRegressor(random_state=10)</pre><b>In a Jupyter environment, please rerun this cell to show the HTML representation or trust the notebook. <br />On GitHub, the HTML representation is unable to render, please try loading this page with nbviewer.org.</b></div><div class=\"sk-container\" hidden><div class=\"sk-item\"><div class=\"sk-estimator sk-toggleable\"><input class=\"sk-toggleable__control sk-hidden--visually\" id=\"sk-estimator-id-1\" type=\"checkbox\" checked><label for=\"sk-estimator-id-1\" class=\"sk-toggleable__label sk-toggleable__label-arrow\">DecisionTreeRegressor</label><div class=\"sk-toggleable__content\"><pre>DecisionTreeRegressor(random_state=10)</pre></div></div></div></div></div>"
      ],
      "text/plain": [
       "DecisionTreeRegressor(random_state=10)"
      ]
     },
     "execution_count": 34,
     "metadata": {},
     "output_type": "execute_result"
    }
   ],
   "source": [
    "dt.fit(train_x,train_y)"
   ]
  },
  {
   "cell_type": "code",
   "execution_count": 35,
   "id": "5cccfa8d",
   "metadata": {},
   "outputs": [
    {
     "data": {
      "text/plain": [
       "0.54"
      ]
     },
     "execution_count": 35,
     "metadata": {},
     "output_type": "execute_result"
    }
   ],
   "source": [
    "# r2 score\n",
    "r2_score(dt.predict(test_x),test_y).round(2)"
   ]
  },
  {
   "cell_type": "markdown",
   "id": "1f91da05",
   "metadata": {},
   "source": [
    "####  Overall decision tree is a better model for this problem"
   ]
  }
 ],
 "metadata": {
  "kernelspec": {
   "display_name": "Python 3 (ipykernel)",
   "language": "python",
   "name": "python3"
  },
  "language_info": {
   "codemirror_mode": {
    "name": "ipython",
    "version": 3
   },
   "file_extension": ".py",
   "mimetype": "text/x-python",
   "name": "python",
   "nbconvert_exporter": "python",
   "pygments_lexer": "ipython3",
   "version": "3.10.9"
  }
 },
 "nbformat": 4,
 "nbformat_minor": 5
}
